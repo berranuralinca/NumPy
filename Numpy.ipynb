{
 "cells": [
  {
   "cell_type": "markdown",
   "id": "bf5d7c16-6452-4f31-9f4a-8af285e97ba7",
   "metadata": {},
   "source": [
    "# NumPy\n",
    "***"
   ]
  },
  {
   "cell_type": "markdown",
   "id": "2f509604-f7dc-41cf-8822-45e4ab105fdb",
   "metadata": {},
   "source": [
    "### Numerical Python\n",
    "***"
   ]
  },
  {
   "cell_type": "markdown",
   "id": "27dcc2aa-bae5-4406-bbff-d4806825232f",
   "metadata": {},
   "source": [
    "- Numpy used for scientific calculations.\n",
    "- Numpy used for working with arrays."
   ]
  },
  {
   "cell_type": "markdown",
   "id": "37181a20-1e04-4596-8b6b-7e7b683c16c2",
   "metadata": {},
   "source": [
    "#### Import"
   ]
  },
  {
   "cell_type": "code",
   "execution_count": 31,
   "id": "3bccae7d-5760-431b-acd0-eaaa2cbca3d1",
   "metadata": {},
   "outputs": [],
   "source": [
    "import numpy as np"
   ]
  },
  {
   "cell_type": "code",
   "execution_count": 32,
   "id": "dff62326-249d-4848-ad90-82249d507757",
   "metadata": {},
   "outputs": [
    {
     "data": {
      "text/plain": [
       "array([12,  3,  5,  2])"
      ]
     },
     "execution_count": 32,
     "metadata": {},
     "output_type": "execute_result"
    }
   ],
   "source": [
    "import numpy as np \n",
    "x=np.array([12,3,5,2])\n",
    "x"
   ]
  },
  {
   "cell_type": "markdown",
   "id": "d13a8338-89da-4fde-8b2e-0af1e764d4f6",
   "metadata": {},
   "source": [
    "#### Creating Array\n",
    "***"
   ]
  },
  {
   "cell_type": "code",
   "execution_count": 34,
   "id": "b4285647-db93-4162-92a9-ab3344a580ad",
   "metadata": {},
   "outputs": [
    {
     "data": {
      "text/plain": [
       "array([[0, 0, 0],\n",
       "       [0, 0, 0]])"
      ]
     },
     "execution_count": 34,
     "metadata": {},
     "output_type": "execute_result"
    }
   ],
   "source": [
    "import numpy as np\n",
    "np.zeros((2,3),int)  #consisting of zeros [2,3] matrix"
   ]
  },
  {
   "cell_type": "code",
   "execution_count": 35,
   "id": "f034c1ec-5240-41cb-8505-0453bb760237",
   "metadata": {},
   "outputs": [
    {
     "data": {
      "text/plain": [
       "array([[2, 2, 2, 2, 2, 2],\n",
       "       [2, 2, 2, 2, 2, 2],\n",
       "       [2, 2, 2, 2, 2, 2],\n",
       "       [2, 2, 2, 2, 2, 2],\n",
       "       [2, 2, 2, 2, 2, 2]])"
      ]
     },
     "execution_count": 35,
     "metadata": {},
     "output_type": "execute_result"
    }
   ],
   "source": [
    "import numpy as np\n",
    "np.full((5,6),2)     #consisting of a given number [a b] matrix"
   ]
  },
  {
   "cell_type": "code",
   "execution_count": 36,
   "id": "660527dd-5936-4f33-9f4c-130df941b81a",
   "metadata": {},
   "outputs": [
    {
     "data": {
      "text/plain": [
       "array([2, 4, 6, 8])"
      ]
     },
     "execution_count": 36,
     "metadata": {},
     "output_type": "execute_result"
    }
   ],
   "source": [
    "import numpy as np\n",
    "np.arange(2,10,2)    # Array from 2 to 10 increasing by two"
   ]
  },
  {
   "cell_type": "code",
   "execution_count": 37,
   "id": "d1e0d861-017c-4752-9b7f-7afb19cdfa85",
   "metadata": {},
   "outputs": [
    {
     "data": {
      "text/plain": [
       "array([ 1.  ,  3.25,  5.5 ,  7.75, 10.  ])"
      ]
     },
     "execution_count": 37,
     "metadata": {},
     "output_type": "execute_result"
    }
   ],
   "source": [
    "import numpy as np\n",
    "np.linspace(1,10,5)  # five numbers from 1 to 10"
   ]
  },
  {
   "cell_type": "code",
   "execution_count": 38,
   "id": "94a3d11f-1d50-4c14-bb37-3118f18ad4db",
   "metadata": {},
   "outputs": [
    {
     "data": {
      "text/plain": [
       "array([[10.9284522 , 11.31564779,  9.64203061],\n",
       "       [ 8.92572534,  9.2340288 ,  9.62756529]])"
      ]
     },
     "execution_count": 38,
     "metadata": {},
     "output_type": "execute_result"
    }
   ],
   "source": [
    "import numpy as np\n",
    "np.random.normal(10,1,(2,3)) #average 10,standart deviation 1 "
   ]
  },
  {
   "cell_type": "code",
   "execution_count": 39,
   "id": "69d202f9-3931-4ee0-b21a-fa4fea2167f3",
   "metadata": {},
   "outputs": [
    {
     "data": {
      "text/plain": [
       "array([[8, 3, 5],\n",
       "       [1, 4, 1],\n",
       "       [1, 1, 4]])"
      ]
     },
     "execution_count": 39,
     "metadata": {},
     "output_type": "execute_result"
    }
   ],
   "source": [
    "import numpy as np\n",
    "np.random.randint(1,10,(3,3)) #random numbers from 1 to 10 "
   ]
  },
  {
   "cell_type": "markdown",
   "id": "d623a6c4-9795-4a9c-977c-5388eb38b7c2",
   "metadata": {},
   "source": [
    "####  Properties\n",
    "***"
   ]
  },
  {
   "cell_type": "markdown",
   "id": "c640fb06-5ceb-48f2-bf9d-0392db3b5411",
   "metadata": {},
   "source": [
    "* **ndim()**:Dimensions\n",
    "* **shape()**:The shape of an array is the number of elements in each dimension.\n",
    "* **size()**:Number of elements in the array\n",
    "* **dtype()**:Array type"
   ]
  },
  {
   "cell_type": "code",
   "execution_count": 42,
   "id": "83274e0e-6fed-4e77-ab53-52ac645b27a8",
   "metadata": {},
   "outputs": [
    {
     "name": "stdout",
     "output_type": "stream",
     "text": [
      "[[6 5 7 6]\n",
      " [6 2 5 7]\n",
      " [2 1 2 8]]\n"
     ]
    },
    {
     "data": {
      "text/plain": [
       "2"
      ]
     },
     "execution_count": 42,
     "metadata": {},
     "output_type": "execute_result"
    }
   ],
   "source": [
    "import numpy as np\n",
    "x=np.random.randint(1,10,size=(3,4))\n",
    "print(x)\n",
    "x.ndim"
   ]
  },
  {
   "cell_type": "code",
   "execution_count": 43,
   "id": "0528773f-f35f-48a4-8d06-8fc540cb46fc",
   "metadata": {},
   "outputs": [
    {
     "data": {
      "text/plain": [
       "(3, 4)"
      ]
     },
     "execution_count": 43,
     "metadata": {},
     "output_type": "execute_result"
    }
   ],
   "source": [
    "x.shape"
   ]
  },
  {
   "cell_type": "code",
   "execution_count": 44,
   "id": "7c98007d-2076-4728-a685-0e91fdc09ebd",
   "metadata": {},
   "outputs": [
    {
     "data": {
      "text/plain": [
       "12"
      ]
     },
     "execution_count": 44,
     "metadata": {},
     "output_type": "execute_result"
    }
   ],
   "source": [
    "x.size"
   ]
  },
  {
   "cell_type": "code",
   "execution_count": 45,
   "id": "f05f7796-3a92-45ae-8245-4ec958b64624",
   "metadata": {},
   "outputs": [
    {
     "data": {
      "text/plain": [
       "dtype('int32')"
      ]
     },
     "execution_count": 45,
     "metadata": {},
     "output_type": "execute_result"
    }
   ],
   "source": [
    "x.dtype"
   ]
  },
  {
   "cell_type": "code",
   "execution_count": 46,
   "id": "365e0147-c873-4681-8200-b919846c213f",
   "metadata": {},
   "outputs": [
    {
     "data": {
      "text/plain": [
       "array([[1],\n",
       "       [3],\n",
       "       [5],\n",
       "       [7],\n",
       "       [9]])"
      ]
     },
     "execution_count": 46,
     "metadata": {},
     "output_type": "execute_result"
    }
   ],
   "source": [
    "import numpy as np\n",
    "a=np.arange(1,10,2)\n",
    "a.reshape((5,1))         #Reshaping means changing the shape of an array."
   ]
  },
  {
   "cell_type": "markdown",
   "id": "42529def-1ef0-403b-bd71-3b03747d0b5a",
   "metadata": {},
   "source": [
    "#### Concatenation\n",
    "***\n",
    "Putting contents of two or more arrays in a single array."
   ]
  },
  {
   "cell_type": "code",
   "execution_count": 48,
   "id": "e72c43a0-3c4c-486d-8bc5-8f5510c6a828",
   "metadata": {},
   "outputs": [
    {
     "data": {
      "text/plain": [
       "array([1, 2, 3, 4, 5, 6])"
      ]
     },
     "execution_count": 48,
     "metadata": {},
     "output_type": "execute_result"
    }
   ],
   "source": [
    "import numpy as np\n",
    "x =np.array([1,2,3])\n",
    "y =np.array([4,5,6])\n",
    "np.concatenate([x,y])"
   ]
  },
  {
   "cell_type": "code",
   "execution_count": 49,
   "id": "d8157f31-3022-4044-a004-1dad98cfdb18",
   "metadata": {},
   "outputs": [
    {
     "data": {
      "text/plain": [
       "array([[ 1,  2,  3],\n",
       "       [10, 11, 12],\n",
       "       [ 4,  5,  6],\n",
       "       [20, 21, 22]])"
      ]
     },
     "execution_count": 49,
     "metadata": {},
     "output_type": "execute_result"
    }
   ],
   "source": [
    "import numpy as np\n",
    "x =np.array([[1,2,3],[10,11,12]])\n",
    "y =np.array([[4,5,6],[20,21,22]])\n",
    "np.concatenate([x,y])"
   ]
  },
  {
   "cell_type": "code",
   "execution_count": 50,
   "id": "3466b7aa-25f7-479a-b365-5128047571b4",
   "metadata": {},
   "outputs": [
    {
     "data": {
      "text/plain": [
       "array([[ 1,  2,  3,  4,  5,  6],\n",
       "       [10, 11, 12, 20, 21, 22]])"
      ]
     },
     "execution_count": 50,
     "metadata": {},
     "output_type": "execute_result"
    }
   ],
   "source": [
    "import numpy as np\n",
    "x =np.array([[1,2,3],[10,11,12]])\n",
    "y =np.array([[4,5,6],[20,21,22]])\n",
    "np.concatenate([x,y],axis=1)   #axis=0 rows,axis=1 columns"
   ]
  },
  {
   "cell_type": "markdown",
   "id": "61067ac2-ff85-4a56-aec2-9bd7cb06bcb5",
   "metadata": {},
   "source": [
    "#### Splitting\n",
    "***\n",
    "Splitting is reverse operation of Joining."
   ]
  },
  {
   "cell_type": "code",
   "execution_count": 52,
   "id": "c27c25e7-5f62-4aa1-a4f6-1b20378d368c",
   "metadata": {},
   "outputs": [
    {
     "data": {
      "text/plain": [
       "array([1, 2, 3])"
      ]
     },
     "execution_count": 52,
     "metadata": {},
     "output_type": "execute_result"
    }
   ],
   "source": [
    "import numpy as np\n",
    "x=np.array([1,2,3,7,8,9,4,5,6])\n",
    "a,b,c =np.split(x,[3,6])        # from 3 to 6\n",
    "a "
   ]
  },
  {
   "cell_type": "code",
   "execution_count": 53,
   "id": "3c15fe26-5ff7-4c4a-baab-a8ec865fe6d1",
   "metadata": {},
   "outputs": [
    {
     "data": {
      "text/plain": [
       "array([7, 8, 9])"
      ]
     },
     "execution_count": 53,
     "metadata": {},
     "output_type": "execute_result"
    }
   ],
   "source": [
    "b"
   ]
  },
  {
   "cell_type": "code",
   "execution_count": 276,
   "id": "d4a1af7a-57af-4edf-9099-b7241f8410da",
   "metadata": {},
   "outputs": [
    {
     "data": {
      "text/plain": [
       "array([[1, 2, 3]])"
      ]
     },
     "execution_count": 276,
     "metadata": {},
     "output_type": "execute_result"
    }
   ],
   "source": [
    "import numpy as np\n",
    "x=np.array([[1,2,3],[4,5,6]])\n",
    "top,bottom = np.vsplit(x,[1])       #split rows\n",
    "top"
   ]
  },
  {
   "cell_type": "code",
   "execution_count": 55,
   "id": "591005a3-af63-4600-a372-ddd3dc366ff0",
   "metadata": {},
   "outputs": [
    {
     "data": {
      "text/plain": [
       "array([[1],\n",
       "       [4]])"
      ]
     },
     "execution_count": 55,
     "metadata": {},
     "output_type": "execute_result"
    }
   ],
   "source": [
    "import numpy as np\n",
    "x=np.array([[1,2,3,4],[4,5,6,7]])\n",
    "right,left=np.hsplit(x,[1])         #split columns\n",
    "right"
   ]
  },
  {
   "cell_type": "markdown",
   "id": "e3e428cc-1c39-4643-9cc2-4e431fd062d2",
   "metadata": {},
   "source": [
    "#### Sorting\n",
    "***\n"
   ]
  },
  {
   "cell_type": "markdown",
   "id": "3970703d-28bf-4373-8447-048b472b3b0f",
   "metadata": {},
   "source": [
    "Used to make ordered array"
   ]
  },
  {
   "cell_type": "code",
   "execution_count": 265,
   "id": "8b83ea13-4841-495a-8b5e-1aace46aa314",
   "metadata": {},
   "outputs": [
    {
     "data": {
      "text/plain": [
       "array([1, 2, 3, 4, 5])"
      ]
     },
     "execution_count": 265,
     "metadata": {},
     "output_type": "execute_result"
    }
   ],
   "source": [
    "import numpy as np\n",
    "x=np.array([4,3,2,1,5])\n",
    "np.sort(x)                     \n",
    "#This method returns a copy of the array, leaving the original array unchanged."
   ]
  },
  {
   "cell_type": "code",
   "execution_count": 267,
   "id": "c44d5dac-d436-42ae-8ee2-8999cdea3781",
   "metadata": {},
   "outputs": [
    {
     "data": {
      "text/plain": [
       "array([1, 2, 3, 4, 5])"
      ]
     },
     "execution_count": 267,
     "metadata": {},
     "output_type": "execute_result"
    }
   ],
   "source": [
    "x.sort()                     \n",
    "x\n",
    "#Main array changes."
   ]
  },
  {
   "cell_type": "code",
   "execution_count": 101,
   "id": "fa498684-a845-403d-947d-34fa69e2bdea",
   "metadata": {},
   "outputs": [
    {
     "data": {
      "text/plain": [
       "array([[7.69049735, 5.34737917, 6.11421012],\n",
       "       [4.81466523, 1.41117796, 6.15147581],\n",
       "       [5.42756136, 4.56797002, 4.96209092]])"
      ]
     },
     "execution_count": 101,
     "metadata": {},
     "output_type": "execute_result"
    }
   ],
   "source": [
    "import numpy as np\n",
    "y=np.random.normal(5,2,(3,3))\n",
    "y"
   ]
  },
  {
   "cell_type": "code",
   "execution_count": 103,
   "id": "718b475e-f141-481d-a543-ccbef38f9943",
   "metadata": {},
   "outputs": [
    {
     "data": {
      "text/plain": [
       "array([[4.81466523, 1.41117796, 4.96209092],\n",
       "       [5.42756136, 4.56797002, 6.11421012],\n",
       "       [7.69049735, 5.34737917, 6.15147581]])"
      ]
     },
     "execution_count": 103,
     "metadata": {},
     "output_type": "execute_result"
    }
   ],
   "source": [
    "np.sort(y,axis=0)    #sort by columns"
   ]
  },
  {
   "cell_type": "code",
   "execution_count": 269,
   "id": "cedfb66d-fbfb-48f6-940a-92d8e322e7ca",
   "metadata": {},
   "outputs": [
    {
     "data": {
      "text/plain": [
       "array([[5.34737917, 6.11421012, 7.69049735],\n",
       "       [1.41117796, 4.81466523, 6.15147581],\n",
       "       [4.56797002, 4.96209092, 5.42756136]])"
      ]
     },
     "execution_count": 269,
     "metadata": {},
     "output_type": "execute_result"
    }
   ],
   "source": [
    "np.sort(y,axis=1)    #sort by rows"
   ]
  },
  {
   "cell_type": "markdown",
   "id": "04368f48-7ee0-491f-aff1-deff0fe1d146",
   "metadata": {},
   "source": [
    "#### Access elements with Index\n",
    "***"
   ]
  },
  {
   "cell_type": "code",
   "execution_count": 111,
   "id": "854aba86-d663-44bf-a82d-c1197ee67de4",
   "metadata": {},
   "outputs": [
    {
     "data": {
      "text/plain": [
       "array([[9, 3, 3],\n",
       "       [5, 2, 6],\n",
       "       [6, 9, 6]])"
      ]
     },
     "execution_count": 111,
     "metadata": {},
     "output_type": "execute_result"
    }
   ],
   "source": [
    "x=np.random.randint(1,10,size=(3,3))\n",
    "x"
   ]
  },
  {
   "cell_type": "code",
   "execution_count": 115,
   "id": "de9e8b7b-21f2-4d13-83fb-8f9157d12fe9",
   "metadata": {},
   "outputs": [
    {
     "data": {
      "text/plain": [
       "9"
      ]
     },
     "execution_count": 115,
     "metadata": {},
     "output_type": "execute_result"
    }
   ],
   "source": [
    "x[2,1]"
   ]
  },
  {
   "cell_type": "code",
   "execution_count": 121,
   "id": "97c96aed-31dd-43bb-8ade-1f1b846caf2c",
   "metadata": {},
   "outputs": [
    {
     "data": {
      "text/plain": [
       "array([[9, 3, 3],\n",
       "       [5, 2, 6],\n",
       "       [6, 5, 6]])"
      ]
     },
     "execution_count": 121,
     "metadata": {},
     "output_type": "execute_result"
    }
   ],
   "source": [
    "x[2,1]=5.8\n",
    "x"
   ]
  },
  {
   "cell_type": "markdown",
   "id": "eed4a198-e05a-4100-9721-1910f3a019ba",
   "metadata": {},
   "source": [
    "#### Slicing\n",
    "***\n",
    "Used to creating subsets of array."
   ]
  },
  {
   "cell_type": "code",
   "execution_count": 149,
   "id": "126d7c41-6238-4c61-9970-1c15f1e26196",
   "metadata": {},
   "outputs": [
    {
     "data": {
      "text/plain": [
       "array([[5, 5, 6, 7],\n",
       "       [5, 2, 7, 4],\n",
       "       [8, 5, 6, 3],\n",
       "       [9, 6, 8, 7]])"
      ]
     },
     "execution_count": 149,
     "metadata": {},
     "output_type": "execute_result"
    }
   ],
   "source": [
    "x=np.random.randint(1,10,(4,4))\n",
    "x"
   ]
  },
  {
   "cell_type": "code",
   "execution_count": 137,
   "id": "9be4f0c3-1580-4906-9e1d-df4670677dae",
   "metadata": {},
   "outputs": [
    {
     "data": {
      "text/plain": [
       "array([[5, 4],\n",
       "       [9, 3]])"
      ]
     },
     "execution_count": 137,
     "metadata": {},
     "output_type": "execute_result"
    }
   ],
   "source": [
    "x[0:2,1:3]             #Select between 0:2 rows,1:3 colummns"
   ]
  },
  {
   "cell_type": "markdown",
   "id": "6e2d2507-a254-4f15-bf88-6ec8ff01de06",
   "metadata": {},
   "source": [
    "- copy()\n",
    "***\n",
    "It makes the selected subset indipendent from the main set"
   ]
  },
  {
   "cell_type": "code",
   "execution_count": 278,
   "id": "f1c7b054-5edb-42c6-a6f8-951665d00fe8",
   "metadata": {},
   "outputs": [
    {
     "data": {
      "text/plain": [
       "array([[9, 1, 0, 9],\n",
       "       [1, 1, 2, 6],\n",
       "       [2, 2, 4, 2],\n",
       "       [4, 9, 2, 7]])"
      ]
     },
     "execution_count": 278,
     "metadata": {},
     "output_type": "execute_result"
    }
   ],
   "source": [
    "y_set=np.random.randint(10,size=(4,4))\n",
    "y_set"
   ]
  },
  {
   "cell_type": "code",
   "execution_count": 280,
   "id": "5dc7f1c5-a647-4ad8-a643-cc055bb16267",
   "metadata": {},
   "outputs": [
    {
     "data": {
      "text/plain": [
       "array([[9, 1],\n",
       "       [1, 1],\n",
       "       [2, 2]])"
      ]
     },
     "execution_count": 280,
     "metadata": {},
     "output_type": "execute_result"
    }
   ],
   "source": [
    "bottom_set_y=y_set[0:3,0:2].copy()  #main set unchanged\n",
    "bottom_set_y"
   ]
  },
  {
   "cell_type": "code",
   "execution_count": 282,
   "id": "3cbf86f3-4a4b-4a5b-8de5-13471533646e",
   "metadata": {},
   "outputs": [
    {
     "data": {
      "text/plain": [
       "array([[    9,     1],\n",
       "       [    1,     1],\n",
       "       [11111,     2]])"
      ]
     },
     "execution_count": 282,
     "metadata": {},
     "output_type": "execute_result"
    }
   ],
   "source": [
    "bottom_set_y[2,0]=11111\n",
    "bottom_set_y"
   ]
  },
  {
   "cell_type": "code",
   "execution_count": 284,
   "id": "98d39315-6b18-4041-afc2-794373cf720f",
   "metadata": {},
   "outputs": [
    {
     "data": {
      "text/plain": [
       "array([[9, 1, 0, 9],\n",
       "       [1, 1, 2, 6],\n",
       "       [2, 2, 4, 2],\n",
       "       [4, 9, 2, 7]])"
      ]
     },
     "execution_count": 284,
     "metadata": {},
     "output_type": "execute_result"
    }
   ],
   "source": [
    "y_set"
   ]
  },
  {
   "cell_type": "markdown",
   "id": "973c7383-8530-4bb1-b0a6-ec1fcfb90058",
   "metadata": {},
   "source": [
    "#### Conditional Element Operations with Fancy\n",
    "***"
   ]
  },
  {
   "cell_type": "code",
   "execution_count": 236,
   "id": "5333e95c-d5f3-445b-9400-900796a219f9",
   "metadata": {},
   "outputs": [
    {
     "data": {
      "text/plain": [
       "array([ 1,  3,  5,  7,  9, 11, 13, 15, 17, 19])"
      ]
     },
     "execution_count": 236,
     "metadata": {},
     "output_type": "execute_result"
    }
   ],
   "source": [
    "t_set=np.arange(1,20,2)\n",
    "t_set"
   ]
  },
  {
   "cell_type": "code",
   "execution_count": 244,
   "id": "4d80713a-9d9d-4ae0-bd83-1599b7e54b44",
   "metadata": {},
   "outputs": [
    {
     "data": {
      "text/plain": [
       "array([ True,  True,  True,  True,  True,  True,  True,  True,  True,\n",
       "        True])"
      ]
     },
     "execution_count": 244,
     "metadata": {},
     "output_type": "execute_result"
    }
   ],
   "source": [
    "t_set%2==1            #bool"
   ]
  },
  {
   "cell_type": "code",
   "execution_count": 246,
   "id": "794a3ac4-298d-41df-9f40-9fd60e648bca",
   "metadata": {},
   "outputs": [
    {
     "data": {
      "text/plain": [
       "array([1, 3, 5, 7, 9])"
      ]
     },
     "execution_count": 246,
     "metadata": {},
     "output_type": "execute_result"
    }
   ],
   "source": [
    "t_kume[t_kume<10]      #condition elemenets"
   ]
  },
  {
   "cell_type": "markdown",
   "id": "61f9ba10-4393-4d58-a3ef-da8529d6cca2",
   "metadata": {},
   "source": [
    "#### Solving an Equation with Two Unknowns\n",
    "***"
   ]
  },
  {
   "cell_type": "raw",
   "id": "34d8f033-1c73-47b9-ad27-ff2540466652",
   "metadata": {},
   "source": [
    "3*x0+2*x1=22\n",
    "2*x1+4*x0=12"
   ]
  },
  {
   "cell_type": "code",
   "execution_count": 256,
   "id": "a4339ae3-ad5c-41e6-95bf-2336c999df06",
   "metadata": {},
   "outputs": [
    {
     "data": {
      "text/plain": [
       "array([-10.,  26.])"
      ]
     },
     "execution_count": 256,
     "metadata": {},
     "output_type": "execute_result"
    }
   ],
   "source": [
    "a=np.array([[3,2],[4,2]])\n",
    "b=np.array([22,12])\n",
    "x=np.linalg.solve(a,b)\n",
    "x"
   ]
  }
 ],
 "metadata": {
  "kernelspec": {
   "display_name": "Python 3 (ipykernel)",
   "language": "python",
   "name": "python3"
  },
  "language_info": {
   "codemirror_mode": {
    "name": "ipython",
    "version": 3
   },
   "file_extension": ".py",
   "mimetype": "text/x-python",
   "name": "python",
   "nbconvert_exporter": "python",
   "pygments_lexer": "ipython3",
   "version": "3.12.4"
  }
 },
 "nbformat": 4,
 "nbformat_minor": 5
}
